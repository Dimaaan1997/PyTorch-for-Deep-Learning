{
 "cells": [
  {
   "cell_type": "code",
   "execution_count": 14,
   "id": "aef6e5ad-8b9a-493a-bc18-2e9e5eda65e7",
   "metadata": {},
   "outputs": [],
   "source": [
    "# Import necessary libraries\n",
    "import torch\n",
    "import matplotlib.pyplot as plt\n",
    "from torch import nn"
   ]
  },
  {
   "cell_type": "code",
   "execution_count": 21,
   "id": "7406fd33-6e1a-433a-b2cb-694e4580d920",
   "metadata": {},
   "outputs": [
    {
     "name": "stdout",
     "output_type": "stream",
     "text": [
      "Number of X samples: 200, dtype torch.float32\n",
      "Number of y samples: 200, dtype torch.float32\n",
      "First 10 X & y samples:\n",
      "X: tensor([[0.0000],\n",
      "        [0.0050],\n",
      "        [0.0100],\n",
      "        [0.0150],\n",
      "        [0.0200],\n",
      "        [0.0250],\n",
      "        [0.0300],\n",
      "        [0.0350],\n",
      "        [0.0400],\n",
      "        [0.0450]])\n",
      "y: tensor([[0.9000],\n",
      "        [0.9015],\n",
      "        [0.9030],\n",
      "        [0.9045],\n",
      "        [0.9060],\n",
      "        [0.9075],\n",
      "        [0.9090],\n",
      "        [0.9105],\n",
      "        [0.9120],\n",
      "        [0.9135]])\n"
     ]
    }
   ],
   "source": [
    "# Create the data parameters\n",
    "weight = 0.3\n",
    "bias = 0.9\n",
    "# Make X and y using linear regression feature\n",
    "X = torch.arange(0,200, dtype=torch.float32).unsqueeze(dim = 1)\n",
    "y = weight * X + bias\n",
    "print(f\"Number of X samples: {len(X)}, dtype {X.dtype}\")\n",
    "print(f\"Number of y samples: {len(y)}\", dtype {y.dtype}\")\n",
    "print(f\"First 10 X & y samples:\\nX: {X[:10]}\\ny: {y[:10]}\")\n"
   ]
  },
  {
   "cell_type": "code",
   "execution_count": 22,
   "id": "27c2ead0-ba05-4e85-be03-76600b4c14ee",
   "metadata": {},
   "outputs": [
    {
     "data": {
      "text/plain": [
       "(160, 160, 40, 40)"
      ]
     },
     "execution_count": 22,
     "metadata": {},
     "output_type": "execute_result"
    }
   ],
   "source": [
    "# Split the data into training and testing\n",
    "train_split = int(len(X) * 0.8)\n",
    "X_train = X[:train_split]\n",
    "y_train = y[:train_split]\n",
    "X_test = X[train_split:]\n",
    "y_test = y[train_split:]\n",
    "len(X_train),len(y_train),len(X_test),len(y_test)"
   ]
  },
  {
   "cell_type": "code",
   "execution_count": 23,
   "id": "dbd40f9d-86a6-4e87-948f-d11728e36fa6",
   "metadata": {},
   "outputs": [
    {
     "data": {
      "image/png": "[encoded data removed]",
      "text/plain": [
       "<Figure size 1000x700 with 1 Axes>"
      ]
     },
     "metadata": {},
     "output_type": "display_data"
    }
   ],
   "source": [
    "# Plot the training and testing data \n",
    "def plot_predictions(train_data = X_train,\n",
    "                 train_labels = y_train,\n",
    "                 test_data = X_test,\n",
    "                 test_labels = y_test,\n",
    "                 predictions = None):\n",
    "  plt.figure(figsize = (10,7))\n",
    "  plt.scatter(train_data,train_labels,c = 'b',s = 4,label = \"Training data\")\n",
    "  plt.scatter(test_data,test_labels,c = 'g',s = 4,label = \"Test data\")\n",
    "\n",
    "  if predictions is not None:\n",
    "    plt.scatter(test_data,predictions,c = 'r',s = 4,label = \"Predictions\")\n",
    "  plt.legend(prop = {\"size\" : 14})\n",
    "plot_predictions()\n",
    "     "
   ]
  },
  {
   "cell_type": "code",
   "execution_count": 24,
   "id": "6c2acf76-a55e-4894-a067-631da450559b",
   "metadata": {},
   "outputs": [
    {
     "data": {
      "text/plain": [
       "(LinearRegressionModel(),\n",
       " OrderedDict([('weight', tensor([0.3367])), ('bias', tensor([0.1288]))]))"
      ]
     },
     "execution_count": 24,
     "metadata": {},
     "output_type": "execute_result"
    }
   ],
   "source": [
    "# Create PyTorch linear regression model by subclassing nn.Module\n",
    "## Option 1\n",
    "class LinearRegressionModel(nn.Module):\n",
    "  def __init__(self):\n",
    "    super().__init__()\n",
    "    self.weight = nn.Parameter(data=torch.randn(1, \n",
    "                                              requires_grad=True,\n",
    "                                              dtype=torch.float\n",
    "                                              ))\n",
    "    \n",
    "    self.bias = nn.Parameter(data=torch.randn(1, \n",
    "                                              requires_grad=True,\n",
    "                                              dtype=torch.float\n",
    "                                              ))\n",
    "\n",
    "  def forward(self, x):\n",
    "    return self.weight * x + self.bias\n",
    "\n",
    "# ## Option 2\n",
    "# class LinearRegressionModel(nn.Module):\n",
    "#   def __init__(self):\n",
    "#     super().__init__()\n",
    "#     self.linear_layer = nn.Linear(in_features = 1,\n",
    "#                                   out_features = 1)\n",
    "#   def forward(self,x : torch.Tensor) -> torch.Tensor:\n",
    "#     return self.linear_layer(x)\n",
    "  \n",
    "torch.manual_seed(42)\n",
    "model_1 = LinearRegressionModel()\n",
    "model_1,model_1.state_dict()"
   ]
  },
  {
   "cell_type": "code",
   "execution_count": 25,
   "id": "d14048de-aa14-4681-86d0-cbbfae7ffa30",
   "metadata": {},
   "outputs": [],
   "source": [
    "# Create the loss function and optimizer\n",
    "loss_fn = nn.L1Loss()\n",
    "optimizer = torch.optim.SGD(params = model_1.parameters(),\n",
    "                            lr = 0.01)"
   ]
  },
  {
   "cell_type": "code",
   "execution_count": 26,
   "id": "ccafc941-8bdc-4e25-80e4-f2ad2156e6dd",
   "metadata": {},
   "outputs": [
    {
     "name": "stdout",
     "output_type": "stream",
     "text": [
      "Epoch: 0 | Train loss: 0.757 | Test loss: 0.725\n",
      "Epoch: 20 | Train loss: 0.525 | Test loss: 0.453\n",
      "Epoch: 40 | Train loss: 0.293 | Test loss: 0.182\n",
      "Epoch: 60 | Train loss: 0.076 | Test loss: 0.074\n",
      "Epoch: 80 | Train loss: 0.053 | Test loss: 0.116\n",
      "Epoch: 100 | Train loss: 0.046 | Test loss: 0.106\n",
      "Epoch: 120 | Train loss: 0.039 | Test loss: 0.090\n",
      "Epoch: 140 | Train loss: 0.032 | Test loss: 0.074\n",
      "Epoch: 160 | Train loss: 0.025 | Test loss: 0.058\n",
      "Epoch: 180 | Train loss: 0.018 | Test loss: 0.042\n",
      "Epoch: 200 | Train loss: 0.012 | Test loss: 0.026\n",
      "Epoch: 220 | Train loss: 0.005 | Test loss: 0.010\n",
      "Epoch: 240 | Train loss: 0.005 | Test loss: 0.009\n",
      "Epoch: 260 | Train loss: 0.005 | Test loss: 0.009\n",
      "Epoch: 280 | Train loss: 0.005 | Test loss: 0.009\n"
     ]
    }
   ],
   "source": [
    "# Training loop\n",
    "# Train model for 300 epochs\n",
    "torch.manual_seed(42)\n",
    "\n",
    "epochs = 300\n",
    "\n",
    "# Send data to target device\n",
    "X_train = X_train\n",
    "X_test = X_test\n",
    "y_train = y_train\n",
    "y_test = y_test\n",
    "\n",
    "for epoch in range(epochs):\n",
    "  ### Training\n",
    "\n",
    "  # Put model in train mode\n",
    "  model_1.train()\n",
    "\n",
    "  # 1. Forward pass\n",
    "  y_pred = model_1(X_train)\n",
    "\n",
    "  # 2. Calculate loss\n",
    "  loss = loss_fn(y_pred,y_train)\n",
    "\n",
    "  # 3. Zero gradients\n",
    "  optimizer.zero_grad()\n",
    "\n",
    "  # 4. Backpropagation\n",
    "  loss.backward()\n",
    "\n",
    "  # 5. Step the optimizer\n",
    "  optimizer.step()\n",
    "\n",
    "  ### Perform testing every 20 epochs\n",
    "  if epoch % 20 == 0:\n",
    "    # Put model in evaluation mode and setup inference context \n",
    "    model_1.eval()\n",
    "    with torch.inference_mode():\n",
    "      # 1. Forward pass\n",
    "      y_preds = model_1(X_test)\n",
    "      # 2. Calculate test loss\n",
    "      test_loss = loss_fn(y_preds,y_test)\n",
    "      # Print out what's happening\n",
    "      print(f\"Epoch: {epoch} | Train loss: {loss:.3f} | Test loss: {test_loss:.3f}\")"
   ]
  },
  {
   "cell_type": "code",
   "execution_count": null,
   "id": "c9ecde84-5655-4d6f-840e-a71acf1d213e",
   "metadata": {},
   "outputs": [],
   "source": []
  },
  {
   "cell_type": "code",
   "execution_count": null,
   "id": "88e13b3f-e320-4be3-81c0-b2b78e72aec1",
   "metadata": {},
   "outputs": [],
   "source": []
  },
  {
   "cell_type": "code",
   "execution_count": null,
   "id": "350ec868-8977-421e-ba1b-17ee130002d8",
   "metadata": {},
   "outputs": [],
   "source": []
  },
  {
   "cell_type": "code",
   "execution_count": null,
   "id": "caad7df1-61ab-4b04-8b17-cd066355593e",
   "metadata": {},
   "outputs": [],
   "source": []
  },
  {
   "cell_type": "code",
   "execution_count": null,
   "id": "9bc2f0c1-d412-4280-b2ab-fecd2839fb9d",
   "metadata": {},
   "outputs": [],
   "source": []
  },
  {
   "cell_type": "code",
   "execution_count": null,
   "id": "4b8829f9-c0f6-4d7b-9bdb-c15917bbb67e",
   "metadata": {},
   "outputs": [],
   "source": []
  },
  {
   "cell_type": "code",
   "execution_count": null,
   "id": "a15f46b6-7f56-438f-8a11-c694e54c99d0",
   "metadata": {},
   "outputs": [],
   "source": []
  },
  {
   "cell_type": "code",
   "execution_count": null,
   "id": "682a9f7d-b2cd-4a65-b388-32e4a0f7c141",
   "metadata": {},
   "outputs": [],
   "source": []
  }
 ],
 "metadata": {
  "kernelspec": {
   "display_name": "venv",
   "language": "python",
   "name": "venv"
  },
  "language_info": {
   "codemirror_mode": {
    "name": "ipython",
    "version": 3
   },
   "file_extension": ".py",
   "mimetype": "text/x-python",
   "name": "python",
   "nbconvert_exporter": "python",
   "pygments_lexer": "ipython3",
   "version": "3.8.10"
  }
 },
 "nbformat": 4,
 "nbformat_minor": 5
}
