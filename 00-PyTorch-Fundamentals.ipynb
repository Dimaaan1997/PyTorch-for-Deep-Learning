{
 "cells": [
  {
   "cell_type": "code",
   "execution_count": 338,
   "id": "c7f0bacc",
   "metadata": {},
   "outputs": [],
   "source": [
    "import torch\n",
    "from torch import tensor\n",
    "import numpy as np"
   ]
  },
  {
   "cell_type": "code",
   "execution_count": null,
   "id": "66ac080e",
   "metadata": {},
   "outputs": [],
   "source": []
  },
  {
   "cell_type": "code",
   "execution_count": 2,
   "id": "4be38b24",
   "metadata": {},
   "outputs": [
    {
     "data": {
      "text/plain": [
       "'2.0.1'"
      ]
     },
     "execution_count": 2,
     "metadata": {},
     "output_type": "execute_result"
    }
   ],
   "source": [
    "torch.__version__"
   ]
  },
  {
   "cell_type": "code",
   "execution_count": 3,
   "id": "3ac0dffe",
   "metadata": {},
   "outputs": [],
   "source": [
    "scalar = torch.tensor(7)"
   ]
  },
  {
   "cell_type": "code",
   "execution_count": 4,
   "id": "8256c2ac",
   "metadata": {},
   "outputs": [
    {
     "data": {
      "text/plain": [
       "tensor(7)"
      ]
     },
     "execution_count": 4,
     "metadata": {},
     "output_type": "execute_result"
    }
   ],
   "source": [
    "scalar"
   ]
  },
  {
   "cell_type": "code",
   "execution_count": 5,
   "id": "4cf08444",
   "metadata": {},
   "outputs": [
    {
     "data": {
      "text/plain": [
       "0"
      ]
     },
     "execution_count": 5,
     "metadata": {},
     "output_type": "execute_result"
    }
   ],
   "source": [
    "scalar.ndim"
   ]
  },
  {
   "cell_type": "code",
   "execution_count": 6,
   "id": "fe209e79",
   "metadata": {},
   "outputs": [
    {
     "data": {
      "text/plain": [
       "7"
      ]
     },
     "execution_count": 6,
     "metadata": {},
     "output_type": "execute_result"
    }
   ],
   "source": [
    "scalar.item()"
   ]
  },
  {
   "cell_type": "code",
   "execution_count": 11,
   "id": "1858a458",
   "metadata": {},
   "outputs": [],
   "source": [
    "vector = tensor([7, 7, 7, 7])"
   ]
  },
  {
   "cell_type": "code",
   "execution_count": 12,
   "id": "8796eba3",
   "metadata": {},
   "outputs": [
    {
     "data": {
      "text/plain": [
       "1"
      ]
     },
     "execution_count": 12,
     "metadata": {},
     "output_type": "execute_result"
    }
   ],
   "source": [
    "vector.ndim"
   ]
  },
  {
   "cell_type": "code",
   "execution_count": 13,
   "id": "104159aa",
   "metadata": {},
   "outputs": [
    {
     "data": {
      "text/plain": [
       "torch.Size([4])"
      ]
     },
     "execution_count": 13,
     "metadata": {},
     "output_type": "execute_result"
    }
   ],
   "source": [
    "vector.shape"
   ]
  },
  {
   "cell_type": "code",
   "execution_count": 14,
   "id": "18868f71",
   "metadata": {},
   "outputs": [],
   "source": [
    "matrix = tensor([[7,8],\n",
    "                 [9,10]])"
   ]
  },
  {
   "cell_type": "code",
   "execution_count": 15,
   "id": "d71cff58",
   "metadata": {},
   "outputs": [
    {
     "data": {
      "text/plain": [
       "2"
      ]
     },
     "execution_count": 15,
     "metadata": {},
     "output_type": "execute_result"
    }
   ],
   "source": [
    "matrix.ndim"
   ]
  },
  {
   "cell_type": "code",
   "execution_count": 16,
   "id": "5d77196a",
   "metadata": {},
   "outputs": [
    {
     "data": {
      "text/plain": [
       "torch.Size([2, 2])"
      ]
     },
     "execution_count": 16,
     "metadata": {},
     "output_type": "execute_result"
    }
   ],
   "source": [
    "matrix.shape"
   ]
  },
  {
   "cell_type": "code",
   "execution_count": 17,
   "id": "5926ba63",
   "metadata": {},
   "outputs": [],
   "source": [
    "tensor = tensor([[[1, 2, 3],\n",
    "                 [3, 6, 9],\n",
    "                 [2, 4, 5]]])"
   ]
  },
  {
   "cell_type": "code",
   "execution_count": null,
   "id": "799506e3",
   "metadata": {},
   "outputs": [],
   "source": []
  },
  {
   "cell_type": "code",
   "execution_count": 18,
   "id": "6fd5757d",
   "metadata": {},
   "outputs": [
    {
     "data": {
      "text/plain": [
       "3"
      ]
     },
     "execution_count": 18,
     "metadata": {},
     "output_type": "execute_result"
    }
   ],
   "source": [
    "tensor.ndim"
   ]
  },
  {
   "cell_type": "code",
   "execution_count": 19,
   "id": "f176dc01",
   "metadata": {},
   "outputs": [
    {
     "data": {
      "text/plain": [
       "torch.Size([1, 3, 3])"
      ]
     },
     "execution_count": 19,
     "metadata": {},
     "output_type": "execute_result"
    }
   ],
   "source": [
    "tensor.shape"
   ]
  },
  {
   "cell_type": "code",
   "execution_count": 21,
   "id": "ea0eaa7c",
   "metadata": {},
   "outputs": [],
   "source": [
    "tensor_1 = torch.tensor([[[1, 2, 3],\n",
    "                    [3, 4, 5],\n",
    "                    [6, 7, 8]], \n",
    "                   [[3, 3, 3,],         \n",
    "                    [4, 4, 4],\n",
    "                    [5, 5, 5]]])"
   ]
  },
  {
   "cell_type": "code",
   "execution_count": 25,
   "id": "e28c0074",
   "metadata": {},
   "outputs": [
    {
     "data": {
      "text/plain": [
       "tensor([[[1, 2, 3],\n",
       "         [3, 4, 5],\n",
       "         [6, 7, 8]],\n",
       "\n",
       "        [[3, 3, 3],\n",
       "         [4, 4, 4],\n",
       "         [5, 5, 5]]])"
      ]
     },
     "execution_count": 25,
     "metadata": {},
     "output_type": "execute_result"
    }
   ],
   "source": [
    "tensor_1"
   ]
  },
  {
   "cell_type": "code",
   "execution_count": 30,
   "id": "62c8e43c",
   "metadata": {},
   "outputs": [],
   "source": [
    "a = tensor_1[1][0][1]"
   ]
  },
  {
   "cell_type": "code",
   "execution_count": 31,
   "id": "68dd5c6f",
   "metadata": {},
   "outputs": [
    {
     "data": {
      "text/plain": [
       "0"
      ]
     },
     "execution_count": 31,
     "metadata": {},
     "output_type": "execute_result"
    }
   ],
   "source": [
    "a.ndim"
   ]
  },
  {
   "cell_type": "code",
   "execution_count": 51,
   "id": "21d376d0",
   "metadata": {},
   "outputs": [],
   "source": [
    "random_tensor = torch.rand(size=(3,3,3,))"
   ]
  },
  {
   "cell_type": "code",
   "execution_count": 52,
   "id": "5b1f5a14",
   "metadata": {},
   "outputs": [
    {
     "data": {
      "text/plain": [
       "tensor([[[0.9735, 0.7058, 0.1879],\n",
       "         [0.2685, 0.2225, 0.9017],\n",
       "         [0.6646, 0.7429, 0.7244]],\n",
       "\n",
       "        [[0.2770, 0.4371, 0.3155],\n",
       "         [0.3091, 0.3405, 0.7802],\n",
       "         [0.6604, 0.5338, 0.2254]],\n",
       "\n",
       "        [[0.4340, 0.9663, 0.5057],\n",
       "         [0.5478, 0.1033, 0.1062],\n",
       "         [0.6408, 0.3104, 0.8553]]])"
      ]
     },
     "execution_count": 52,
     "metadata": {},
     "output_type": "execute_result"
    }
   ],
   "source": [
    "random_tensor"
   ]
  },
  {
   "cell_type": "code",
   "execution_count": 53,
   "id": "5acc913c",
   "metadata": {},
   "outputs": [],
   "source": [
    "zeros_tensor = torch.zeros(size = (2 ,3, 4))"
   ]
  },
  {
   "cell_type": "code",
   "execution_count": 54,
   "id": "71e20aa0",
   "metadata": {},
   "outputs": [
    {
     "data": {
      "text/plain": [
       "tensor([[[0., 0., 0., 0.],\n",
       "         [0., 0., 0., 0.],\n",
       "         [0., 0., 0., 0.]],\n",
       "\n",
       "        [[0., 0., 0., 0.],\n",
       "         [0., 0., 0., 0.],\n",
       "         [0., 0., 0., 0.]]])"
      ]
     },
     "execution_count": 54,
     "metadata": {},
     "output_type": "execute_result"
    }
   ],
   "source": [
    "zeros_tensor"
   ]
  },
  {
   "cell_type": "code",
   "execution_count": 55,
   "id": "6eaf9730",
   "metadata": {},
   "outputs": [],
   "source": [
    "ones_tensor = torch.ones(size =(1, 2 ,2))"
   ]
  },
  {
   "cell_type": "code",
   "execution_count": 56,
   "id": "b7dfc90a",
   "metadata": {},
   "outputs": [
    {
     "data": {
      "text/plain": [
       "tensor([[[1., 1.],\n",
       "         [1., 1.]]])"
      ]
     },
     "execution_count": 56,
     "metadata": {},
     "output_type": "execute_result"
    }
   ],
   "source": [
    "ones_tensor"
   ]
  },
  {
   "cell_type": "code",
   "execution_count": 57,
   "id": "60a9c93a",
   "metadata": {},
   "outputs": [],
   "source": [
    "my_arange = torch.arange(1, 10, 2)"
   ]
  },
  {
   "cell_type": "code",
   "execution_count": 60,
   "id": "0d32057b",
   "metadata": {},
   "outputs": [
    {
     "data": {
      "text/plain": [
       "tensor([1, 3, 5, 7, 9])"
      ]
     },
     "execution_count": 60,
     "metadata": {},
     "output_type": "execute_result"
    }
   ],
   "source": [
    "my_arange"
   ]
  },
  {
   "cell_type": "code",
   "execution_count": 61,
   "id": "f8866eab",
   "metadata": {},
   "outputs": [],
   "source": [
    "my_arange_ones = torch.ones_like(input=my_arange)"
   ]
  },
  {
   "cell_type": "markdown",
   "id": "711b6e0f",
   "metadata": {},
   "source": []
  },
  {
   "cell_type": "code",
   "execution_count": 62,
   "id": "d6619e2a",
   "metadata": {},
   "outputs": [
    {
     "data": {
      "text/plain": [
       "tensor([1, 1, 1, 1, 1])"
      ]
     },
     "execution_count": 62,
     "metadata": {},
     "output_type": "execute_result"
    }
   ],
   "source": [
    "my_arange_ones"
   ]
  },
  {
   "cell_type": "code",
   "execution_count": 63,
   "id": "de1a8db8",
   "metadata": {},
   "outputs": [
    {
     "data": {
      "text/plain": [
       "torch.int64"
      ]
     },
     "execution_count": 63,
     "metadata": {},
     "output_type": "execute_result"
    }
   ],
   "source": [
    "my_arange_ones.dtype"
   ]
  },
  {
   "cell_type": "code",
   "execution_count": 64,
   "id": "f43ab02c",
   "metadata": {},
   "outputs": [
    {
     "data": {
      "text/plain": [
       "torch.float32"
      ]
     },
     "execution_count": 64,
     "metadata": {},
     "output_type": "execute_result"
    }
   ],
   "source": [
    "zeros_tensor.dtype"
   ]
  },
  {
   "cell_type": "code",
   "execution_count": 69,
   "id": "b817d416",
   "metadata": {},
   "outputs": [],
   "source": [
    "a = 0.548980349309430493049330940349034904950459045940594"
   ]
  },
  {
   "cell_type": "code",
   "execution_count": 76,
   "id": "45261ec5",
   "metadata": {},
   "outputs": [
    {
     "data": {
      "text/plain": [
       "tensor(0.5490, dtype=torch.float64)"
      ]
     },
     "execution_count": 76,
     "metadata": {},
     "output_type": "execute_result"
    }
   ],
   "source": [
    "torch.tensor(a, dtype = torch.float64)"
   ]
  },
  {
   "cell_type": "code",
   "execution_count": 78,
   "id": "5b064661",
   "metadata": {},
   "outputs": [],
   "source": [
    "float_16_tensor = torch.tensor([3.0, 6.0, 9.0], dtype = torch.float16)"
   ]
  },
  {
   "cell_type": "code",
   "execution_count": 79,
   "id": "89eb9381",
   "metadata": {},
   "outputs": [
    {
     "data": {
      "text/plain": [
       "tensor([3., 6., 9.], dtype=torch.float16)"
      ]
     },
     "execution_count": 79,
     "metadata": {},
     "output_type": "execute_result"
    }
   ],
   "source": [
    "float_16_tensor"
   ]
  },
  {
   "cell_type": "code",
   "execution_count": 80,
   "id": "5302d3a3",
   "metadata": {},
   "outputs": [
    {
     "data": {
      "text/plain": [
       "device(type='cpu')"
      ]
     },
     "execution_count": 80,
     "metadata": {},
     "output_type": "execute_result"
    }
   ],
   "source": [
    "tensor.device"
   ]
  },
  {
   "cell_type": "code",
   "execution_count": 82,
   "id": "5e2ab8e9",
   "metadata": {},
   "outputs": [],
   "source": [
    "## Tensor operations"
   ]
  },
  {
   "cell_type": "code",
   "execution_count": 87,
   "id": "3db9ec18",
   "metadata": {},
   "outputs": [],
   "source": [
    "exp_tensor_1 = torch.tensor([1,2,3])"
   ]
  },
  {
   "cell_type": "code",
   "execution_count": 86,
   "id": "f3949cf1",
   "metadata": {},
   "outputs": [
    {
     "data": {
      "text/plain": [
       "tensor([10, 20, 30])"
      ]
     },
     "execution_count": 86,
     "metadata": {},
     "output_type": "execute_result"
    }
   ],
   "source": [
    "exp_tensor.mul(10)"
   ]
  },
  {
   "cell_type": "code",
   "execution_count": 85,
   "id": "f9864cd6",
   "metadata": {},
   "outputs": [
    {
     "data": {
      "text/plain": [
       "tensor([1, 2, 3])"
      ]
     },
     "execution_count": 85,
     "metadata": {},
     "output_type": "execute_result"
    }
   ],
   "source": [
    "exp_tensor"
   ]
  },
  {
   "cell_type": "code",
   "execution_count": 88,
   "id": "c9c6e224",
   "metadata": {},
   "outputs": [],
   "source": [
    "exp_tensor_2 = torch.tensor([1,2,3])"
   ]
  },
  {
   "cell_type": "code",
   "execution_count": 89,
   "id": "02fd8734",
   "metadata": {},
   "outputs": [],
   "source": [
    "usual_mul_tensor = exp_tensor_1 * exp_tensor_2"
   ]
  },
  {
   "cell_type": "code",
   "execution_count": 90,
   "id": "6579744e",
   "metadata": {},
   "outputs": [
    {
     "data": {
      "text/plain": [
       "tensor([1, 4, 9])"
      ]
     },
     "execution_count": 90,
     "metadata": {},
     "output_type": "execute_result"
    }
   ],
   "source": [
    "mul_tensor"
   ]
  },
  {
   "cell_type": "code",
   "execution_count": 91,
   "id": "7d9430a3",
   "metadata": {},
   "outputs": [
    {
     "data": {
      "text/plain": [
       "tensor(14)"
      ]
     },
     "execution_count": 91,
     "metadata": {},
     "output_type": "execute_result"
    }
   ],
   "source": [
    "torch.matmul(exp_tensor_2, exp_tensor_2)"
   ]
  },
  {
   "cell_type": "code",
   "execution_count": 93,
   "id": "bcee3c80",
   "metadata": {},
   "outputs": [],
   "source": [
    "t_1 = torch.tensor([[1, 2],\n",
    "                   [3, 4], \n",
    "                   [5, 6]])\n",
    "\n",
    "t_2_right = torch.tensor([[1, 2, 3],\n",
    "                         [4, 5, 6]])\n",
    "\n",
    "t_2_wrong= torch.tensor([[1, 4],\n",
    "                        [2, 5],\n",
    "                        [3, 6]])"
   ]
  },
  {
   "cell_type": "code",
   "execution_count": 94,
   "id": "d0350abd",
   "metadata": {},
   "outputs": [],
   "source": [
    "right_mul = torch.matmul(t_1, t_2_right)"
   ]
  },
  {
   "cell_type": "code",
   "execution_count": 95,
   "id": "442234bc",
   "metadata": {},
   "outputs": [
    {
     "data": {
      "text/plain": [
       "tensor([[ 9, 12, 15],\n",
       "        [19, 26, 33],\n",
       "        [29, 40, 51]])"
      ]
     },
     "execution_count": 95,
     "metadata": {},
     "output_type": "execute_result"
    }
   ],
   "source": [
    "right_mul"
   ]
  },
  {
   "cell_type": "code",
   "execution_count": 102,
   "id": "f0736d05",
   "metadata": {},
   "outputs": [
    {
     "ename": "RuntimeError",
     "evalue": "mat1 and mat2 shapes cannot be multiplied (3x2 and 3x2)",
     "output_type": "error",
     "traceback": [
      "\u001b[0;31m---------------------------------------------------------------------------\u001b[0m",
      "\u001b[0;31mRuntimeError\u001b[0m                              Traceback (most recent call last)",
      "Cell \u001b[0;32mIn[102], line 1\u001b[0m\n\u001b[0;32m----> 1\u001b[0m wrong_mul \u001b[38;5;241m=\u001b[39m \u001b[43mtorch\u001b[49m\u001b[38;5;241;43m.\u001b[39;49m\u001b[43mmatmul\u001b[49m\u001b[43m(\u001b[49m\u001b[43mt_1\u001b[49m\u001b[43m,\u001b[49m\u001b[43m \u001b[49m\u001b[43mt_2_wrong\u001b[49m\u001b[43m)\u001b[49m\n",
      "\u001b[0;31mRuntimeError\u001b[0m: mat1 and mat2 shapes cannot be multiplied (3x2 and 3x2)"
     ]
    }
   ],
   "source": [
    "wrong_mul = torch.matmul(t_1, t_2_wrong)"
   ]
  },
  {
   "cell_type": "code",
   "execution_count": 99,
   "id": "6273d4f4",
   "metadata": {},
   "outputs": [],
   "source": [
    "t_11 = torch.tensor([[1, 2, 3]])\n",
    "\n",
    "t_22_right = torch.tensor([[4],\n",
    "                            [5],\n",
    "                            [6]])\n",
    "\n",
    "t_22_wrong= torch.tensor([[4,5,6]])"
   ]
  },
  {
   "cell_type": "code",
   "execution_count": 100,
   "id": "366c66b4",
   "metadata": {},
   "outputs": [],
   "source": [
    "right_mul_1 = torch.matmul(t_11, t_22_right)"
   ]
  },
  {
   "cell_type": "code",
   "execution_count": 101,
   "id": "c96311be",
   "metadata": {},
   "outputs": [
    {
     "data": {
      "text/plain": [
       "tensor([[32]])"
      ]
     },
     "execution_count": 101,
     "metadata": {},
     "output_type": "execute_result"
    }
   ],
   "source": [
    "right_mul_1"
   ]
  },
  {
   "cell_type": "code",
   "execution_count": 103,
   "id": "48dae39b",
   "metadata": {},
   "outputs": [
    {
     "ename": "RuntimeError",
     "evalue": "mat1 and mat2 shapes cannot be multiplied (1x3 and 1x3)",
     "output_type": "error",
     "traceback": [
      "\u001b[0;31m---------------------------------------------------------------------------\u001b[0m",
      "\u001b[0;31mRuntimeError\u001b[0m                              Traceback (most recent call last)",
      "Cell \u001b[0;32mIn[103], line 1\u001b[0m\n\u001b[0;32m----> 1\u001b[0m wrong_mul \u001b[38;5;241m=\u001b[39m \u001b[43mtorch\u001b[49m\u001b[38;5;241;43m.\u001b[39;49m\u001b[43mmatmul\u001b[49m\u001b[43m(\u001b[49m\u001b[43mt_11\u001b[49m\u001b[43m,\u001b[49m\u001b[43m \u001b[49m\u001b[43mt_22_wrong\u001b[49m\u001b[43m)\u001b[49m\n",
      "\u001b[0;31mRuntimeError\u001b[0m: mat1 and mat2 shapes cannot be multiplied (1x3 and 1x3)"
     ]
    }
   ],
   "source": [
    "wrong_mul = torch.matmul(t_11, t_22_wrong)"
   ]
  },
  {
   "cell_type": "code",
   "execution_count": 108,
   "id": "9809d017",
   "metadata": {},
   "outputs": [
    {
     "data": {
      "text/plain": [
       "tensor([[4, 5, 6]])"
      ]
     },
     "execution_count": 108,
     "metadata": {},
     "output_type": "execute_result"
    }
   ],
   "source": [
    "t_22_right.T"
   ]
  },
  {
   "cell_type": "code",
   "execution_count": 131,
   "id": "9ab2d569",
   "metadata": {},
   "outputs": [],
   "source": [
    "tensor_A = torch.tensor([[1, 2],\n",
    "                         [3, 4],\n",
    "                         [5, 6]], dtype=torch.float32)\n",
    "torch.manual_seed(42)\n",
    "linear = torch.nn.Linear(in_features = 2, out_features = 6)\n",
    "output = linear(tensor_A)"
   ]
  },
  {
   "cell_type": "code",
   "execution_count": 129,
   "id": "74d41730",
   "metadata": {},
   "outputs": [
    {
     "data": {
      "text/plain": [
       "tensor([[0.9332, 0.8805, 3.0149, 1.5545, 1.8186, 2.0634],\n",
       "        [1.7186, 1.4009, 3.5818, 1.7408, 2.6017, 2.5123]],\n",
       "       grad_fn=<AddmmBackward0>)"
      ]
     },
     "execution_count": 129,
     "metadata": {},
     "output_type": "execute_result"
    }
   ],
   "source": [
    "output"
   ]
  },
  {
   "cell_type": "markdown",
   "id": "f2e797c1",
   "metadata": {},
   "source": [
    "## Finding the min, max, mean, sum, etc (aggregation)"
   ]
  },
  {
   "cell_type": "code",
   "execution_count": 133,
   "id": "04250b97",
   "metadata": {},
   "outputs": [
    {
     "data": {
      "text/plain": [
       "tensor([ 0, 10, 20, 30, 40, 50, 60, 70, 80, 90])"
      ]
     },
     "execution_count": 133,
     "metadata": {},
     "output_type": "execute_result"
    }
   ],
   "source": [
    "x = torch.arange(0, 100, 10)\n",
    "x"
   ]
  },
  {
   "cell_type": "code",
   "execution_count": 135,
   "id": "ba5ff835",
   "metadata": {},
   "outputs": [
    {
     "data": {
      "text/plain": [
       "(tensor(45.), tensor(90), tensor(0), tensor(450))"
      ]
     },
     "execution_count": 135,
     "metadata": {},
     "output_type": "execute_result"
    }
   ],
   "source": [
    "torch.mean(x.type(torch.float32)), torch.max(x), torch.min(x), torch.sum(x)"
   ]
  },
  {
   "cell_type": "code",
   "execution_count": 136,
   "id": "757ce982",
   "metadata": {},
   "outputs": [
    {
     "data": {
      "text/plain": [
       "tensor([ 0, 10, 20, 30, 40, 50, 60, 70, 80, 90])"
      ]
     },
     "execution_count": 136,
     "metadata": {},
     "output_type": "execute_result"
    }
   ],
   "source": [
    "x"
   ]
  },
  {
   "cell_type": "code",
   "execution_count": 137,
   "id": "8f2cc0f1",
   "metadata": {},
   "outputs": [
    {
     "data": {
      "text/plain": [
       "tensor([ 0., 10., 20., 30., 40., 50., 60., 70., 80., 90.])"
      ]
     },
     "execution_count": 137,
     "metadata": {},
     "output_type": "execute_result"
    }
   ],
   "source": [
    "x.type(torch.float32)"
   ]
  },
  {
   "cell_type": "code",
   "execution_count": 146,
   "id": "2279dfba",
   "metadata": {},
   "outputs": [
    {
     "data": {
      "text/plain": [
       "(tensor(9), tensor(0))"
      ]
     },
     "execution_count": 146,
     "metadata": {},
     "output_type": "execute_result"
    }
   ],
   "source": [
    "torch.argmax(x), torch.argmin(x)"
   ]
  },
  {
   "cell_type": "code",
   "execution_count": 147,
   "id": "47ee6d4d",
   "metadata": {},
   "outputs": [
    {
     "data": {
      "text/plain": [
       "tensor([[1., 2.],\n",
       "        [3., 4.],\n",
       "        [5., 6.]])"
      ]
     },
     "execution_count": 147,
     "metadata": {},
     "output_type": "execute_result"
    }
   ],
   "source": [
    "tensor_A"
   ]
  },
  {
   "cell_type": "code",
   "execution_count": 148,
   "id": "1e2c123d",
   "metadata": {},
   "outputs": [
    {
     "data": {
      "text/plain": [
       "tensor([[[0.9735, 0.7058, 0.1879],\n",
       "         [0.2685, 0.2225, 0.9017],\n",
       "         [0.6646, 0.7429, 0.7244]],\n",
       "\n",
       "        [[0.2770, 0.4371, 0.3155],\n",
       "         [0.3091, 0.3405, 0.7802],\n",
       "         [0.6604, 0.5338, 0.2254]],\n",
       "\n",
       "        [[0.4340, 0.9663, 0.5057],\n",
       "         [0.5478, 0.1033, 0.1062],\n",
       "         [0.6408, 0.3104, 0.8553]]])"
      ]
     },
     "execution_count": 148,
     "metadata": {},
     "output_type": "execute_result"
    }
   ],
   "source": [
    "random_tensor"
   ]
  },
  {
   "cell_type": "code",
   "execution_count": 182,
   "id": "916fe7e9",
   "metadata": {},
   "outputs": [
    {
     "data": {
      "text/plain": [
       "tensor([[1., 2.],\n",
       "        [3., 4.],\n",
       "        [5., 6.]])"
      ]
     },
     "execution_count": 182,
     "metadata": {},
     "output_type": "execute_result"
    }
   ],
   "source": [
    "tensor_A"
   ]
  },
  {
   "cell_type": "code",
   "execution_count": 191,
   "id": "7b4c77fa",
   "metadata": {},
   "outputs": [
    {
     "data": {
      "text/plain": [
       "tensor([[[0.5779, 0.9040, 0.5547],\n",
       "         [0.3423, 0.6343, 0.3644]],\n",
       "\n",
       "        [[0.7104, 0.9464, 0.7890],\n",
       "         [0.2814, 0.7886, 0.5895]],\n",
       "\n",
       "        [[0.7539, 0.1952, 0.0050],\n",
       "         [0.3068, 0.1165, 0.9103]]])"
      ]
     },
     "execution_count": 191,
     "metadata": {},
     "output_type": "execute_result"
    }
   ],
   "source": [
    "rand_a = torch.rand(size = (3, 2, 3))\n",
    "rand_a"
   ]
  },
  {
   "cell_type": "code",
   "execution_count": null,
   "id": "9fd98d84",
   "metadata": {},
   "outputs": [],
   "source": []
  },
  {
   "cell_type": "code",
   "execution_count": 192,
   "id": "fc3816e3",
   "metadata": {},
   "outputs": [
    {
     "data": {
      "text/plain": [
       "tensor([[[0.5779, 0.9040],\n",
       "         [0.5547, 0.3423],\n",
       "         [0.6343, 0.3644]],\n",
       "\n",
       "        [[0.7104, 0.9464],\n",
       "         [0.7890, 0.2814],\n",
       "         [0.7886, 0.5895]],\n",
       "\n",
       "        [[0.7539, 0.1952],\n",
       "         [0.0050, 0.3068],\n",
       "         [0.1165, 0.9103]]])"
      ]
     },
     "execution_count": 192,
     "metadata": {},
     "output_type": "execute_result"
    }
   ],
   "source": [
    "torch.reshape(rand_a, (3, 3, 2))"
   ]
  },
  {
   "cell_type": "code",
   "execution_count": 195,
   "id": "99b356f7",
   "metadata": {},
   "outputs": [
    {
     "data": {
      "text/plain": [
       "tensor([[[0.5779, 0.9040],\n",
       "         [0.5547, 0.3423],\n",
       "         [0.6343, 0.3644]],\n",
       "\n",
       "        [[0.7104, 0.9464],\n",
       "         [0.7890, 0.2814],\n",
       "         [0.7886, 0.5895]],\n",
       "\n",
       "        [[0.7539, 0.1952],\n",
       "         [0.0050, 0.3068],\n",
       "         [0.1165, 0.9103]]])"
      ]
     },
     "execution_count": 195,
     "metadata": {},
     "output_type": "execute_result"
    }
   ],
   "source": [
    "rand_a.view((3, 3, 2))"
   ]
  },
  {
   "cell_type": "code",
   "execution_count": 203,
   "id": "9f738ef4",
   "metadata": {},
   "outputs": [
    {
     "data": {
      "text/plain": [
       "tensor([[0.0041, 0.1088],\n",
       "        [0.1637, 0.7025]])"
      ]
     },
     "execution_count": 203,
     "metadata": {},
     "output_type": "execute_result"
    }
   ],
   "source": [
    "tensor_AA = torch.rand(size = (2, 2))\n",
    "tensor_BB = torch.rand(size = (2, 2))\n",
    "tensor_AA"
   ]
  },
  {
   "cell_type": "code",
   "execution_count": 204,
   "id": "aa1be2d2",
   "metadata": {},
   "outputs": [
    {
     "data": {
      "text/plain": [
       "tensor([[0.6790, 0.9155],\n",
       "        [0.2418, 0.1591]])"
      ]
     },
     "execution_count": 204,
     "metadata": {},
     "output_type": "execute_result"
    }
   ],
   "source": [
    "tensor_BB"
   ]
  },
  {
   "cell_type": "code",
   "execution_count": 207,
   "id": "ff501be3",
   "metadata": {},
   "outputs": [
    {
     "data": {
      "text/plain": [
       "tensor([[[0.0041, 0.1088],\n",
       "         [0.1637, 0.7025]],\n",
       "\n",
       "        [[0.6790, 0.9155],\n",
       "         [0.2418, 0.1591]]])"
      ]
     },
     "execution_count": 207,
     "metadata": {},
     "output_type": "execute_result"
    }
   ],
   "source": [
    "stack = torch.stack((tensor_AA, tensor_BB))\n",
    "stack"
   ]
  },
  {
   "cell_type": "code",
   "execution_count": 214,
   "id": "6e6475c4",
   "metadata": {},
   "outputs": [],
   "source": [
    "a = torch.squeeze(tensor_BB, dim=1)"
   ]
  },
  {
   "cell_type": "code",
   "execution_count": 216,
   "id": "aae5267b",
   "metadata": {},
   "outputs": [],
   "source": [
    "exp_tensor = torch.rand(size = (3, 1, 3, 1, 2))"
   ]
  },
  {
   "cell_type": "code",
   "execution_count": 223,
   "id": "54d7fe74",
   "metadata": {},
   "outputs": [
    {
     "data": {
      "text/plain": [
       "tensor([[[[[0.7653, 0.2979]],\n",
       "\n",
       "          [[0.8035, 0.3813]],\n",
       "\n",
       "          [[0.7860, 0.1115]]]],\n",
       "\n",
       "\n",
       "\n",
       "        [[[[0.2477, 0.6524]],\n",
       "\n",
       "          [[0.6057, 0.3725]],\n",
       "\n",
       "          [[0.7980, 0.8399]]]],\n",
       "\n",
       "\n",
       "\n",
       "        [[[[0.1374, 0.2331]],\n",
       "\n",
       "          [[0.9578, 0.3313]],\n",
       "\n",
       "          [[0.3227, 0.0162]]]]])"
      ]
     },
     "execution_count": 223,
     "metadata": {},
     "output_type": "execute_result"
    }
   ],
   "source": [
    "exp_tensor"
   ]
  },
  {
   "cell_type": "code",
   "execution_count": 220,
   "id": "13e53e38",
   "metadata": {},
   "outputs": [],
   "source": [
    "sqz_t = torch.squeeze(exp_tensor)"
   ]
  },
  {
   "cell_type": "code",
   "execution_count": null,
   "id": "b6542f14",
   "metadata": {},
   "outputs": [],
   "source": []
  },
  {
   "cell_type": "code",
   "execution_count": 227,
   "id": "f84c15f7",
   "metadata": {},
   "outputs": [
    {
     "data": {
      "text/plain": [
       "(tensor([1., 2., 3., 4., 5., 6., 7.]), torch.Size([7]))"
      ]
     },
     "execution_count": 227,
     "metadata": {},
     "output_type": "execute_result"
    }
   ],
   "source": [
    "x = torch.arange(1. , 8.)\n",
    "x, x.shape"
   ]
  },
  {
   "cell_type": "code",
   "execution_count": 228,
   "id": "c4cb98aa",
   "metadata": {},
   "outputs": [
    {
     "data": {
      "text/plain": [
       "(tensor([[1., 2., 3., 4., 5., 6., 7.]]), torch.Size([1, 7]))"
      ]
     },
     "execution_count": 228,
     "metadata": {},
     "output_type": "execute_result"
    }
   ],
   "source": [
    "x_reshaped = x.reshape(1, 7)\n",
    "x_reshaped, x_reshaped.shape"
   ]
  },
  {
   "cell_type": "code",
   "execution_count": null,
   "id": "39152983",
   "metadata": {},
   "outputs": [],
   "source": []
  },
  {
   "cell_type": "code",
   "execution_count": 233,
   "id": "32e62958",
   "metadata": {},
   "outputs": [],
   "source": [
    "a = torch.arange(8).view(4,2)"
   ]
  },
  {
   "cell_type": "code",
   "execution_count": 234,
   "id": "4bc16191",
   "metadata": {},
   "outputs": [
    {
     "data": {
      "text/plain": [
       "tensor([[0, 1],\n",
       "        [2, 3],\n",
       "        [4, 5],\n",
       "        [6, 7]])"
      ]
     },
     "execution_count": 234,
     "metadata": {},
     "output_type": "execute_result"
    }
   ],
   "source": [
    "a"
   ]
  },
  {
   "cell_type": "code",
   "execution_count": 273,
   "id": "42923e53",
   "metadata": {},
   "outputs": [
    {
     "data": {
      "text/plain": [
       "tensor([[0., 0.],\n",
       "        [0., 0.],\n",
       "        [0., 0.]])"
      ]
     },
     "execution_count": 273,
     "metadata": {},
     "output_type": "execute_result"
    }
   ],
   "source": [
    "z = torch.zeros(3, 2)\n",
    "z"
   ]
  },
  {
   "cell_type": "code",
   "execution_count": 274,
   "id": "a5a1bd6e",
   "metadata": {},
   "outputs": [],
   "source": [
    "x = z.view(2, 3)"
   ]
  },
  {
   "cell_type": "code",
   "execution_count": 275,
   "id": "9dafe3cf",
   "metadata": {},
   "outputs": [
    {
     "data": {
      "text/plain": [
       "tensor([[0., 0., 0.],\n",
       "        [0., 0., 0.]])"
      ]
     },
     "execution_count": 275,
     "metadata": {},
     "output_type": "execute_result"
    }
   ],
   "source": [
    "x"
   ]
  },
  {
   "cell_type": "code",
   "execution_count": 276,
   "id": "04ce954d",
   "metadata": {
    "scrolled": true
   },
   "outputs": [
    {
     "data": {
      "text/plain": [
       "tensor([[0., 0.],\n",
       "        [0., 0.],\n",
       "        [0., 0.]])"
      ]
     },
     "execution_count": 276,
     "metadata": {},
     "output_type": "execute_result"
    }
   ],
   "source": [
    "z"
   ]
  },
  {
   "cell_type": "code",
   "execution_count": 277,
   "id": "ea01c5e8",
   "metadata": {},
   "outputs": [
    {
     "data": {
      "text/plain": [
       "tensor([[1., 1.],\n",
       "        [1., 1.],\n",
       "        [1., 1.]])"
      ]
     },
     "execution_count": 277,
     "metadata": {},
     "output_type": "execute_result"
    }
   ],
   "source": [
    "z.fill_(1)"
   ]
  },
  {
   "cell_type": "code",
   "execution_count": 278,
   "id": "54fc6754",
   "metadata": {},
   "outputs": [
    {
     "data": {
      "text/plain": [
       "tensor([[1., 1., 1.],\n",
       "        [1., 1., 1.]])"
      ]
     },
     "execution_count": 278,
     "metadata": {},
     "output_type": "execute_result"
    }
   ],
   "source": [
    "x"
   ]
  },
  {
   "cell_type": "code",
   "execution_count": 279,
   "id": "e98f90d5",
   "metadata": {},
   "outputs": [
    {
     "data": {
      "text/plain": [
       "tensor([[2., 2., 2.],\n",
       "        [2., 2., 2.]])"
      ]
     },
     "execution_count": 279,
     "metadata": {},
     "output_type": "execute_result"
    }
   ],
   "source": [
    "x.fill_(2)"
   ]
  },
  {
   "cell_type": "code",
   "execution_count": 280,
   "id": "b8c18e58",
   "metadata": {},
   "outputs": [
    {
     "data": {
      "text/plain": [
       "tensor([[2., 2.],\n",
       "        [2., 2.],\n",
       "        [2., 2.]])"
      ]
     },
     "execution_count": 280,
     "metadata": {},
     "output_type": "execute_result"
    }
   ],
   "source": [
    "z"
   ]
  },
  {
   "cell_type": "code",
   "execution_count": 282,
   "id": "0e17e1ed",
   "metadata": {},
   "outputs": [],
   "source": [
    "x = torch.tensor([5., 2., 3., 4., 5., 6., 7.])"
   ]
  },
  {
   "cell_type": "code",
   "execution_count": 293,
   "id": "44eeb32a",
   "metadata": {},
   "outputs": [
    {
     "data": {
      "text/plain": [
       "tensor([[5., 2., 3., 4., 5., 6., 7.],\n",
       "        [5., 2., 3., 4., 5., 6., 7.],\n",
       "        [5., 2., 3., 4., 5., 6., 7.],\n",
       "        [5., 2., 3., 4., 5., 6., 7.]])"
      ]
     },
     "execution_count": 293,
     "metadata": {},
     "output_type": "execute_result"
    }
   ],
   "source": [
    "# Stack tensors on top of each other\n",
    "x_stacked = torch.stack([x, x, x, x], dim=0) # try changing dim to dim=1 and see what happens\n",
    "x_stacked"
   ]
  },
  {
   "cell_type": "code",
   "execution_count": 298,
   "id": "9d98fa21",
   "metadata": {},
   "outputs": [],
   "source": [
    "x_original = torch.rand(size=(224, 223, 3))"
   ]
  },
  {
   "cell_type": "code",
   "execution_count": 299,
   "id": "58f450e3",
   "metadata": {},
   "outputs": [],
   "source": [
    "x_permuted = x_original.permute(2, 1, 0) "
   ]
  },
  {
   "cell_type": "code",
   "execution_count": 300,
   "id": "ad720393",
   "metadata": {},
   "outputs": [
    {
     "data": {
      "text/plain": [
       "torch.Size([3, 223, 224])"
      ]
     },
     "execution_count": 300,
     "metadata": {},
     "output_type": "execute_result"
    }
   ],
   "source": [
    "x_permuted.shape"
   ]
  },
  {
   "cell_type": "markdown",
   "id": "8c5c34b2",
   "metadata": {},
   "source": [
    "## Indexing (selecting data from tensors)¶"
   ]
  },
  {
   "cell_type": "code",
   "execution_count": 301,
   "id": "39650a3c",
   "metadata": {},
   "outputs": [],
   "source": [
    "x = torch.arange(1, 10).reshape(1, 3, 3)"
   ]
  },
  {
   "cell_type": "code",
   "execution_count": 302,
   "id": "d2ccac6c",
   "metadata": {},
   "outputs": [
    {
     "data": {
      "text/plain": [
       "tensor([[[1, 2, 3],\n",
       "         [4, 5, 6],\n",
       "         [7, 8, 9]]])"
      ]
     },
     "execution_count": 302,
     "metadata": {},
     "output_type": "execute_result"
    }
   ],
   "source": [
    "x"
   ]
  },
  {
   "cell_type": "code",
   "execution_count": 306,
   "id": "938bbbe8",
   "metadata": {},
   "outputs": [
    {
     "data": {
      "text/plain": [
       "tensor([1, 2, 3])"
      ]
     },
     "execution_count": 306,
     "metadata": {},
     "output_type": "execute_result"
    }
   ],
   "source": [
    "x[0][0]"
   ]
  },
  {
   "cell_type": "code",
   "execution_count": 309,
   "id": "d94675d8",
   "metadata": {},
   "outputs": [
    {
     "data": {
      "text/plain": [
       "tensor([[4, 5, 6]])"
      ]
     },
     "execution_count": 309,
     "metadata": {},
     "output_type": "execute_result"
    }
   ],
   "source": [
    "x[:, 1]"
   ]
  },
  {
   "cell_type": "code",
   "execution_count": 316,
   "id": "9d23e61e",
   "metadata": {},
   "outputs": [],
   "source": [
    "new_x_rand = (torch.rand(2, 3, 3,) * 100).type(torch.int8)"
   ]
  },
  {
   "cell_type": "code",
   "execution_count": 327,
   "id": "26e75f21",
   "metadata": {},
   "outputs": [
    {
     "data": {
      "text/plain": [
       "(tensor([[[74, 21,  3],\n",
       "          [ 7,  3, 44],\n",
       "          [44, 18, 30]],\n",
       " \n",
       "         [[61, 23, 13],\n",
       "          [24, 21,  9],\n",
       "          [26, 52,  9]]], dtype=torch.int8),\n",
       " torch.Size([2, 3, 3]))"
      ]
     },
     "execution_count": 327,
     "metadata": {},
     "output_type": "execute_result"
    }
   ],
   "source": [
    "new_x_rand, new_x_rand.shape"
   ]
  },
  {
   "cell_type": "code",
   "execution_count": 334,
   "id": "90a7406e",
   "metadata": {},
   "outputs": [
    {
     "data": {
      "text/plain": [
       "tensor([[ 7,  3, 44],\n",
       "        [24, 21,  9]], dtype=torch.int8)"
      ]
     },
     "execution_count": 334,
     "metadata": {},
     "output_type": "execute_result"
    }
   ],
   "source": [
    "new_x_rand[:,1]"
   ]
  },
  {
   "cell_type": "markdown",
   "id": "15bca5f0",
   "metadata": {},
   "source": [
    "## PyTorch tensors & NumPy"
   ]
  },
  {
   "cell_type": "code",
   "execution_count": 340,
   "id": "6819217b",
   "metadata": {},
   "outputs": [],
   "source": [
    "np_array = np.arange(1.0, 8.0)\n",
    "my_tensor = torch.from_numpy(np_array)"
   ]
  },
  {
   "cell_type": "code",
   "execution_count": 343,
   "id": "fb5dfe54",
   "metadata": {},
   "outputs": [
    {
     "data": {
      "text/plain": [
       "(array([1., 2., 3., 4., 5., 6., 7.]),\n",
       " tensor([1., 2., 3., 4., 5., 6., 7.], dtype=torch.float64))"
      ]
     },
     "execution_count": 343,
     "metadata": {},
     "output_type": "execute_result"
    }
   ],
   "source": [
    "np_array, my_tensor"
   ]
  },
  {
   "cell_type": "code",
   "execution_count": null,
   "id": "644090dc",
   "metadata": {},
   "outputs": [],
   "source": []
  },
  {
   "cell_type": "code",
   "execution_count": null,
   "id": "a240a6cb",
   "metadata": {},
   "outputs": [],
   "source": []
  },
  {
   "cell_type": "code",
   "execution_count": null,
   "id": "8c6ad370",
   "metadata": {},
   "outputs": [],
   "source": []
  }
 ],
 "metadata": {
  "kernelspec": {
   "display_name": "venv",
   "language": "python",
   "name": "venv"
  },
  "language_info": {
   "codemirror_mode": {
    "name": "ipython",
    "version": 3
   },
   "file_extension": ".py",
   "mimetype": "text/x-python",
   "name": "python",
   "nbconvert_exporter": "python",
   "pygments_lexer": "ipython3",
   "version": "3.8.9"
  }
 },
 "nbformat": 4,
 "nbformat_minor": 5
}
