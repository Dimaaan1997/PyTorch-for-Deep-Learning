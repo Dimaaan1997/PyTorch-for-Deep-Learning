{
 "cells": [
  {
   "cell_type": "markdown",
   "id": "452ee2c5-4cc7-497b-b7a9-d90140ced408",
   "metadata": {},
   "source": [
    "# 00. PyTorch Fundamentals Exercises"
   ]
  },
  {
   "cell_type": "markdown",
   "id": "c2c797b0-f4b1-40a7-a582-edc1dc10631e",
   "metadata": {},
   "source": [
    "### 1. Create a random tensor with shape (7, 7)."
   ]
  },
  {
   "cell_type": "code",
   "execution_count": 3,
   "id": "f7c88a19-8b4a-4f6d-ae8a-9d365e43e77b",
   "metadata": {},
   "outputs": [],
   "source": [
    "import torch"
   ]
  },
  {
   "cell_type": "code",
   "execution_count": 12,
   "id": "c79cb627-0d89-465d-9c82-2494ea0416f0",
   "metadata": {},
   "outputs": [
    {
     "data": {
      "text/plain": [
       "tensor([[0.1100, 0.2121, 0.9704, 0.8369, 0.2820, 0.3742, 0.0237],\n",
       "        [0.4910, 0.1235, 0.1143, 0.4725, 0.5751, 0.2952, 0.7967],\n",
       "        [0.1957, 0.9537, 0.8426, 0.0784, 0.3756, 0.5226, 0.5730],\n",
       "        [0.6186, 0.6962, 0.5300, 0.2560, 0.7366, 0.0204, 0.2036],\n",
       "        [0.3748, 0.2564, 0.3251, 0.0902, 0.3936, 0.6069, 0.1743],\n",
       "        [0.4743, 0.8579, 0.4486, 0.5139, 0.4569, 0.6012, 0.8179],\n",
       "        [0.9736, 0.8175, 0.9747, 0.4638, 0.0508, 0.2630, 0.8405]])"
      ]
     },
     "execution_count": 12,
     "metadata": {},
     "output_type": "execute_result"
    }
   ],
   "source": [
    " "
   ]
  },
  {
   "cell_type": "markdown",
   "id": "f2309af3-500f-46e2-bd06-70909ba37082",
   "metadata": {},
   "source": [
    "### 3. Perform a matrix multiplication on the tensor from 2 with another random tensor with shape (1, 7) (hint: you may have to transpose the second tensor)."
   ]
  },
  {
   "cell_type": "code",
   "execution_count": null,
   "id": "0b6041ed-0924-4bb6-bf8b-13e08c576d39",
   "metadata": {},
   "outputs": [],
   "source": [
    "# (7,7) (7, 1)"
   ]
  },
  {
   "cell_type": "code",
   "execution_count": 7,
   "id": "8553c4ae-bfdf-4489-8707-d7eb81b64168",
   "metadata": {},
   "outputs": [],
   "source": [
    "random_tensor_1 = torch.rand(size = (7, 7))\n",
    "random_tensor_2 = torch.rand(size = (1, 7))\n",
    "mul_tensor = random_tensor_1.matmul(random_tensor_2.T)"
   ]
  },
  {
   "cell_type": "code",
   "execution_count": 8,
   "id": "6fa14de9-ac24-4e54-b53a-0268db7b8bc2",
   "metadata": {},
   "outputs": [
    {
     "data": {
      "text/plain": [
       "tensor([[1.1563],\n",
       "        [2.4691],\n",
       "        [1.7151],\n",
       "        [0.7227],\n",
       "        [1.7563],\n",
       "        [1.9914],\n",
       "        [1.9536]])"
      ]
     },
     "execution_count": 8,
     "metadata": {},
     "output_type": "execute_result"
    }
   ],
   "source": [
    "mul_tensor"
   ]
  },
  {
   "cell_type": "markdown",
   "id": "e79552a9-dccd-4788-8343-7de833696498",
   "metadata": {},
   "source": [
    "###  4. Set the random seed to 0 and do 2 & 3 over again."
   ]
  },
  {
   "cell_type": "code",
   "execution_count": 19,
   "id": "7e0d7de6-0c86-4b77-a51a-c040f50cc1ec",
   "metadata": {},
   "outputs": [
    {
     "name": "stdout",
     "output_type": "stream",
     "text": [
      "tensor([[0.4963, 0.7682, 0.0885, 0.1320, 0.3074, 0.6341, 0.4901],\n",
      "        [0.8964, 0.4556, 0.6323, 0.3489, 0.4017, 0.0223, 0.1689],\n",
      "        [0.2939, 0.5185, 0.6977, 0.8000, 0.1610, 0.2823, 0.6816],\n",
      "        [0.9152, 0.3971, 0.8742, 0.4194, 0.5529, 0.9527, 0.0362],\n",
      "        [0.1852, 0.3734, 0.3051, 0.9320, 0.1759, 0.2698, 0.1507],\n",
      "        [0.0317, 0.2081, 0.9298, 0.7231, 0.7423, 0.5263, 0.2437],\n",
      "        [0.5846, 0.0332, 0.1387, 0.2422, 0.8155, 0.7932, 0.2783]])\n",
      "tensor([[1.1563],\n",
      "        [2.4691],\n",
      "        [1.7151],\n",
      "        [0.7227],\n",
      "        [1.7563],\n",
      "        [1.9914],\n",
      "        [1.9536]])\n"
     ]
    }
   ],
   "source": [
    "torch.manual_seed(0)\n",
    "random_tensor_with_seed = torch.rand(size = (7,7))\n",
    "print(random_tensor_with_seed)\n",
    "\n",
    "random_tensor_11 = torch.rand(size = (7, 7))\n",
    "random_tensor_22 = torch.rand(size = (1, 7))\n",
    "mul_tensor = random_tensor_1.matmul(random_tensor_2.T)\n",
    "print(mul_tensor)"
   ]
  },
  {
   "cell_type": "code",
   "execution_count": null,
   "id": "226d2d8c-996a-434f-96c3-c808405e0b9b",
   "metadata": {},
   "outputs": [],
   "source": []
  },
  {
   "cell_type": "markdown",
   "id": "b2d47d63-6ec8-4e5a-bdba-114dae0ef99c",
   "metadata": {},
   "source": [
    "## create seed for GPU and mult them"
   ]
  },
  {
   "cell_type": "code",
   "execution_count": 79,
   "id": "74c20f6a-eef6-411a-9097-692e939ac412",
   "metadata": {},
   "outputs": [],
   "source": [
    "torch.manual_seed(1234)\n",
    "device = 'cuda'\n",
    "\n",
    "gpu_tensor_1 = torch.rand(size = (2,3)).to(device)\n",
    "gpu_tensor_2 = torch.rand(size = (2,3)).to(device)\n"
   ]
  },
  {
   "cell_type": "code",
   "execution_count": 80,
   "id": "1b4819c2-fed1-4b11-8072-764b5ca89ae8",
   "metadata": {},
   "outputs": [],
   "source": [
    "mult_gpu_tensor = gpu_tensor_1.matmul(gpu_tensor_2.T)"
   ]
  },
  {
   "cell_type": "code",
   "execution_count": 82,
   "id": "f0dce372-6384-43d7-beb6-4887f023c7b6",
   "metadata": {},
   "outputs": [
    {
     "data": {
      "text/plain": [
       "tensor([[0.3647, 0.4709],\n",
       "        [0.5184, 0.5617]], device='cuda:0')"
      ]
     },
     "execution_count": 82,
     "metadata": {},
     "output_type": "execute_result"
    }
   ],
   "source": [
    "mult_gpu_tensor"
   ]
  },
  {
   "cell_type": "code",
   "execution_count": 83,
   "id": "b1fbfdb4-24ad-48e2-aa6b-6798c26f84ab",
   "metadata": {},
   "outputs": [
    {
     "data": {
      "text/plain": [
       "tensor(3, device='cuda:0')"
      ]
     },
     "execution_count": 83,
     "metadata": {},
     "output_type": "execute_result"
    }
   ],
   "source": [
    "max = torch.max(mult_gpu_tensor)\n",
    "max\n",
    "arg_max = torch.argmax(mult_gpu_tensor)\n",
    "arg_max"
   ]
  },
  {
   "cell_type": "code",
   "execution_count": 84,
   "id": "959090e3-f492-4fd1-9a22-5994904d3a4e",
   "metadata": {},
   "outputs": [
    {
     "data": {
      "text/plain": [
       "tensor(0, device='cuda:0')"
      ]
     },
     "execution_count": 84,
     "metadata": {},
     "output_type": "execute_result"
    }
   ],
   "source": [
    "min = torch.min(mult_gpu_tensor)\n",
    "min\n",
    "arg_min = torch.argmin(mult_gpu_tensor)\n",
    "arg_min"
   ]
  },
  {
   "cell_type": "markdown",
   "id": "8d8102ec-775e-4a35-9489-c24eb00cb5e0",
   "metadata": {},
   "source": [
    "### 10. Make a random tensor with shape (1, 1, 1, 10) and then create a new tensor with all the 1 dimensions removed to be left with a tensor of shape (10). Set the seed to 7 when you create it and print out the first tensor and it's shape as well as the second tensor and it's shape."
   ]
  },
  {
   "cell_type": "code",
   "execution_count": 99,
   "id": "bcc1e8a2-cf87-4868-b4e7-6dae0e224533",
   "metadata": {},
   "outputs": [
    {
     "data": {
      "text/plain": [
       "(tensor([[[[0.5349, 0.1988, 0.6592, 0.6569, 0.2328, 0.4251, 0.2071, 0.6297,\n",
       "            0.3653, 0.8513]]]]),\n",
       " torch.Size([1, 1, 1, 10]),\n",
       " tensor([0.5349, 0.1988, 0.6592, 0.6569, 0.2328, 0.4251, 0.2071, 0.6297, 0.3653,\n",
       "         0.8513]),\n",
       " torch.Size([10]))"
      ]
     },
     "execution_count": 99,
     "metadata": {},
     "output_type": "execute_result"
    }
   ],
   "source": [
    "torch.manual_seed(7)\n",
    "random_tensor_final = torch.rand(size = (1, 1, 1, 10))\n",
    "random_tensor_final_sqz = torch.squeeze(random_tensor_final)\n",
    "random_tensor_final, random_tensor_final.size(), random_tensor_final_sqz, random_tensor_final_sqz.size()"
   ]
  },
  {
   "cell_type": "code",
   "execution_count": null,
   "id": "f7ba1d26-7715-43c2-902e-b1ca1ed29a6e",
   "metadata": {},
   "outputs": [],
   "source": []
  },
  {
   "cell_type": "code",
   "execution_count": null,
   "id": "8b2b78a7-473f-4a95-860a-5de3309ee07e",
   "metadata": {},
   "outputs": [],
   "source": []
  },
  {
   "cell_type": "code",
   "execution_count": null,
   "id": "20ed0f74-848c-4ab9-ae89-6b8349f88dfc",
   "metadata": {},
   "outputs": [],
   "source": []
  },
  {
   "cell_type": "code",
   "execution_count": null,
   "id": "b0de294c-a2c4-4747-9f24-fa16ccd5dba8",
   "metadata": {},
   "outputs": [],
   "source": []
  }
 ],
 "metadata": {
  "kernelspec": {
   "display_name": "venv",
   "language": "python",
   "name": "venv"
  },
  "language_info": {
   "codemirror_mode": {
    "name": "ipython",
    "version": 3
   },
   "file_extension": ".py",
   "mimetype": "text/x-python",
   "name": "python",
   "nbconvert_exporter": "python",
   "pygments_lexer": "ipython3",
   "version": "3.8.10"
  }
 },
 "nbformat": 4,
 "nbformat_minor": 5
}
